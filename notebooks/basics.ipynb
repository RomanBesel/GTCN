{
 "cells": [
  {
   "cell_type": "code",
   "execution_count": 15,
   "metadata": {},
   "outputs": [
    {
     "name": "stdout",
     "output_type": "stream",
     "text": [
      "The autoreload extension is already loaded. To reload it, use:\n",
      "  %reload_ext autoreload\n"
     ]
    }
   ],
   "source": [
    "%load_ext autoreload\n",
    "%autoreload 2\n",
    "\n",
    "import pandas as pd\n",
    "import networkx as nx\n",
    "import numpy as np\n",
    "\n",
    "import mygraphs as mg\n",
    "import utility as ut\n",
    "from mygraphs.base_graph import BaseGraph\n",
    "from mygraphs.standard_graphs import *\n",
    "from mygraphs.directed_graphs import *\n",
    "from mygraphs.weighted_graphs import *\n",
    "from utility.graph_generator import *\n",
    "from utility.data_transformer import DataTransformer\n",
    "\n",
    "#import testing\n",
    "#from testing.test_graphs import test_some_graphs\n",
    "\n",
    "import os"
   ]
  },
  {
   "cell_type": "markdown",
   "metadata": {},
   "source": [
    "## Graphs"
   ]
  },
  {
   "cell_type": "markdown",
   "metadata": {},
   "source": [
    "### Standard Graphs"
   ]
  },
  {
   "cell_type": "code",
   "execution_count": 2,
   "metadata": {},
   "outputs": [
    {
     "data": {
      "text/plain": [
       "array([[1., 1., 0., 2., 0., 1., 0., 0.],\n",
       "       [1., 2., 1., 0., 0., 0., 0., 0.],\n",
       "       [0., 1., 0., 0., 1., 0., 0., 1.],\n",
       "       [2., 0., 0., 0., 0., 1., 1., 0.],\n",
       "       [0., 0., 1., 0., 0., 0., 0., 0.],\n",
       "       [1., 0., 0., 1., 0., 0., 1., 0.],\n",
       "       [0., 0., 0., 1., 0., 1., 0., 1.],\n",
       "       [0., 0., 1., 0., 0., 0., 1., 0.]])"
      ]
     },
     "execution_count": 2,
     "metadata": {},
     "output_type": "execute_result"
    }
   ],
   "source": [
    "nodes = [0, 1, 2, 3, 4, 5, 6, 7]\n",
    "edges = [(0, 1), (0, 0), (1, 1), (1, 1), (0, 3), (0, 3), (0, 5), (1, 2), (2, 4), (2 , 7), (3, 6), (3, 5), (5, 6), (6, 7)]\n",
    "G = Graph(nodes, edges)\n",
    "\n",
    "G.adjacency_matrix"
   ]
  },
  {
   "cell_type": "code",
   "execution_count": 3,
   "metadata": {},
   "outputs": [
    {
     "data": {
      "text/plain": [
       "array([[1., 1., 2., 1., 0., 0., 0., 0., 0., 0., 0., 0.],\n",
       "       [0., 1., 0., 0., 2., 1., 0., 0., 0., 0., 0., 0.],\n",
       "       [0., 0., 0., 0., 0., 1., 1., 1., 0., 0., 0., 0.],\n",
       "       [0., 0., 2., 0., 0., 0., 0., 0., 1., 1., 0., 0.],\n",
       "       [0., 0., 0., 0., 0., 0., 1., 0., 0., 0., 0., 0.],\n",
       "       [0., 0., 0., 1., 0., 0., 0., 0., 1., 0., 1., 0.],\n",
       "       [0., 0., 0., 0., 0., 0., 0., 0., 0., 1., 1., 1.],\n",
       "       [0., 0., 0., 0., 0., 0., 0., 1., 0., 0., 0., 1.]])"
      ]
     },
     "execution_count": 3,
     "metadata": {},
     "output_type": "execute_result"
    }
   ],
   "source": [
    "G.incidence_matrix"
   ]
  },
  {
   "cell_type": "code",
   "execution_count": 4,
   "metadata": {},
   "outputs": [
    {
     "data": {
      "text/plain": [
       "array([[5., 0., 0., 0., 0., 0., 0., 0.],\n",
       "       [0., 4., 0., 0., 0., 0., 0., 0.],\n",
       "       [0., 0., 3., 0., 0., 0., 0., 0.],\n",
       "       [0., 0., 0., 4., 0., 0., 0., 0.],\n",
       "       [0., 0., 0., 0., 1., 0., 0., 0.],\n",
       "       [0., 0., 0., 0., 0., 3., 0., 0.],\n",
       "       [0., 0., 0., 0., 0., 0., 3., 0.],\n",
       "       [0., 0., 0., 0., 0., 0., 0., 2.]])"
      ]
     },
     "execution_count": 4,
     "metadata": {},
     "output_type": "execute_result"
    }
   ],
   "source": [
    "G.degree_matrix"
   ]
  },
  {
   "cell_type": "code",
   "execution_count": 5,
   "metadata": {},
   "outputs": [
    {
     "data": {
      "text/plain": [
       "array([[0., 1., 0., 1., 0., 1., 0., 0.],\n",
       "       [1., 0., 1., 0., 0., 0., 0., 0.],\n",
       "       [0., 1., 0., 0., 1., 0., 0., 1.],\n",
       "       [1., 0., 0., 0., 0., 1., 1., 0.],\n",
       "       [0., 0., 1., 0., 0., 0., 0., 0.],\n",
       "       [1., 0., 0., 1., 0., 0., 1., 0.],\n",
       "       [0., 0., 0., 1., 0., 1., 0., 1.],\n",
       "       [0., 0., 1., 0., 0., 0., 1., 0.]])"
      ]
     },
     "execution_count": 5,
     "metadata": {},
     "output_type": "execute_result"
    }
   ],
   "source": [
    "nodes = [0, 1, 2, 3, 4, 5, 6, 7]\n",
    "edges = [(0, 1), (0, 0), (1, 1), (1, 1), (0, 3), (0, 3), (0, 5), (1, 2), (2, 4), (2 , 7), (3, 6), (3, 5), (5, 6), (6, 7)]\n",
    "SG = SimpleGraph(nodes, edges)\n",
    "\n",
    "SG.adjacency_matrix"
   ]
  },
  {
   "cell_type": "code",
   "execution_count": 6,
   "metadata": {},
   "outputs": [
    {
     "data": {
      "text/plain": [
       "array([[1., 0., 0., 0., 1., 0., 0., 1., 0., 0.],\n",
       "       [1., 0., 1., 0., 0., 0., 0., 0., 0., 0.],\n",
       "       [0., 1., 1., 1., 0., 0., 0., 0., 0., 0.],\n",
       "       [0., 0., 0., 0., 1., 0., 0., 0., 1., 1.],\n",
       "       [0., 1., 0., 0., 0., 0., 0., 0., 0., 0.],\n",
       "       [0., 0., 0., 0., 0., 0., 1., 1., 0., 1.],\n",
       "       [0., 0., 0., 0., 0., 1., 1., 0., 1., 0.],\n",
       "       [0., 0., 0., 1., 0., 1., 0., 0., 0., 0.]])"
      ]
     },
     "execution_count": 6,
     "metadata": {},
     "output_type": "execute_result"
    }
   ],
   "source": [
    "SG.incidence_matrix"
   ]
  },
  {
   "cell_type": "code",
   "execution_count": 7,
   "metadata": {},
   "outputs": [
    {
     "data": {
      "text/plain": [
       "array([[3., 0., 0., 0., 0., 0., 0., 0.],\n",
       "       [0., 2., 0., 0., 0., 0., 0., 0.],\n",
       "       [0., 0., 3., 0., 0., 0., 0., 0.],\n",
       "       [0., 0., 0., 3., 0., 0., 0., 0.],\n",
       "       [0., 0., 0., 0., 1., 0., 0., 0.],\n",
       "       [0., 0., 0., 0., 0., 3., 0., 0.],\n",
       "       [0., 0., 0., 0., 0., 0., 3., 0.],\n",
       "       [0., 0., 0., 0., 0., 0., 0., 2.]])"
      ]
     },
     "execution_count": 7,
     "metadata": {},
     "output_type": "execute_result"
    }
   ],
   "source": [
    "SG.degree_matrix"
   ]
  },
  {
   "cell_type": "code",
   "execution_count": 8,
   "metadata": {},
   "outputs": [
    {
     "data": {
      "text/plain": [
       "array([[-3.,  1.,  0.,  1.,  0.,  1.,  0.,  0.],\n",
       "       [ 1., -2.,  1.,  0.,  0.,  0.,  0.,  0.],\n",
       "       [ 0.,  1., -3.,  0.,  1.,  0.,  0.,  1.],\n",
       "       [ 1.,  0.,  0., -3.,  0.,  1.,  1.,  0.],\n",
       "       [ 0.,  0.,  1.,  0., -1.,  0.,  0.,  0.],\n",
       "       [ 1.,  0.,  0.,  1.,  0., -3.,  1.,  0.],\n",
       "       [ 0.,  0.,  0.,  1.,  0.,  1., -3.,  1.],\n",
       "       [ 0.,  0.,  1.,  0.,  0.,  0.,  1., -2.]])"
      ]
     },
     "execution_count": 8,
     "metadata": {},
     "output_type": "execute_result"
    }
   ],
   "source": [
    "SG.laplacian_matrix"
   ]
  },
  {
   "cell_type": "markdown",
   "metadata": {},
   "source": [
    "### Directed Graphs"
   ]
  },
  {
   "cell_type": "code",
   "execution_count": 9,
   "metadata": {},
   "outputs": [
    {
     "data": {
      "text/plain": [
       "array([[0., 1., 0., 1., 0., 1., 0., 0.],\n",
       "       [0., 0., 1., 0., 1., 0., 0., 1.],\n",
       "       [0., 1., 0., 1., 1., 0., 0., 0.],\n",
       "       [0., 0., 0., 0., 0., 1., 0., 0.],\n",
       "       [0., 0., 0., 0., 0., 0., 0., 0.],\n",
       "       [0., 0., 0., 0., 0., 0., 1., 0.],\n",
       "       [0., 0., 0., 0., 0., 0., 0., 1.],\n",
       "       [0., 0., 0., 0., 0., 0., 0., 0.]])"
      ]
     },
     "execution_count": 9,
     "metadata": {},
     "output_type": "execute_result"
    }
   ],
   "source": [
    "nodes = [0, 1, 2, 3, 4, 5, 6, 7]\n",
    "edges = [(0, 1), (0, 3), (0, 5), (1, 2), (2, 1), (1, 4), (1, 7), (2, 3), (2, 4), (3, 5), (5, 6), (6, 7)]\n",
    "DG = DirectedGraph(nodes, edges)\n",
    "\n",
    "DG.adjacency_matrix"
   ]
  },
  {
   "cell_type": "code",
   "execution_count": 10,
   "metadata": {},
   "outputs": [
    {
     "data": {
      "text/plain": [
       "array([[-1., -1., -1.,  0.,  0.,  0.,  0.,  0.,  0.,  0.,  0.,  0.],\n",
       "       [ 1.,  0.,  0., -1., -1., -1.,  1.,  0.,  0.,  0.,  0.,  0.],\n",
       "       [ 0.,  0.,  0.,  1.,  0.,  0., -1., -1., -1.,  0.,  0.,  0.],\n",
       "       [ 0.,  1.,  0.,  0.,  0.,  0.,  0.,  1.,  0., -1.,  0.,  0.],\n",
       "       [ 0.,  0.,  0.,  0.,  1.,  0.,  0.,  0.,  1.,  0.,  0.,  0.],\n",
       "       [ 0.,  0.,  1.,  0.,  0.,  0.,  0.,  0.,  0.,  1., -1.,  0.],\n",
       "       [ 0.,  0.,  0.,  0.,  0.,  0.,  0.,  0.,  0.,  0.,  1., -1.],\n",
       "       [ 0.,  0.,  0.,  0.,  0.,  1.,  0.,  0.,  0.,  0.,  0.,  1.]])"
      ]
     },
     "execution_count": 10,
     "metadata": {},
     "output_type": "execute_result"
    }
   ],
   "source": [
    "DG.incidence_matrix"
   ]
  },
  {
   "cell_type": "code",
   "execution_count": 11,
   "metadata": {},
   "outputs": [
    {
     "data": {
      "text/plain": [
       "{'in': array([[0., 0., 0., 0., 0., 0., 0., 0.],\n",
       "        [0., 2., 0., 0., 0., 0., 0., 0.],\n",
       "        [0., 0., 1., 0., 0., 0., 0., 0.],\n",
       "        [0., 0., 0., 2., 0., 0., 0., 0.],\n",
       "        [0., 0., 0., 0., 2., 0., 0., 0.],\n",
       "        [0., 0., 0., 0., 0., 2., 0., 0.],\n",
       "        [0., 0., 0., 0., 0., 0., 1., 0.],\n",
       "        [0., 0., 0., 0., 0., 0., 0., 2.]]),\n",
       " 'out': array([[3., 0., 0., 0., 0., 0., 0., 0.],\n",
       "        [0., 3., 0., 0., 0., 0., 0., 0.],\n",
       "        [0., 0., 3., 0., 0., 0., 0., 0.],\n",
       "        [0., 0., 0., 1., 0., 0., 0., 0.],\n",
       "        [0., 0., 0., 0., 0., 0., 0., 0.],\n",
       "        [0., 0., 0., 0., 0., 1., 0., 0.],\n",
       "        [0., 0., 0., 0., 0., 0., 1., 0.],\n",
       "        [0., 0., 0., 0., 0., 0., 0., 0.]])}"
      ]
     },
     "execution_count": 11,
     "metadata": {},
     "output_type": "execute_result"
    }
   ],
   "source": [
    "DG.degree_matrix"
   ]
  },
  {
   "cell_type": "code",
   "execution_count": 12,
   "metadata": {},
   "outputs": [
    {
     "data": {
      "text/plain": [
       "array([[0., 1., 0., 1., 0., 1., 0., 0.],\n",
       "       [0., 0., 1., 0., 1., 0., 0., 1.],\n",
       "       [0., 1., 0., 1., 1., 0., 0., 0.],\n",
       "       [0., 0., 0., 0., 0., 1., 0., 0.],\n",
       "       [0., 0., 0., 0., 0., 0., 0., 0.],\n",
       "       [0., 0., 0., 0., 0., 0., 1., 0.],\n",
       "       [0., 0., 0., 0., 0., 0., 0., 1.],\n",
       "       [0., 0., 0., 0., 0., 0., 0., 0.]])"
      ]
     },
     "execution_count": 12,
     "metadata": {},
     "output_type": "execute_result"
    }
   ],
   "source": [
    "nodes = [0, 1, 2, 3, 4, 5, 6, 7]\n",
    "edges = [(0, 1), (0, 3), (0, 5), (1, 2), (2, 1), (1, 4), (1, 7), (2, 3), (2, 4), (3, 5), (5, 6), (6, 7)]\n",
    "SDG = SimpleDirectedGraph(nodes, edges)\n",
    "\n",
    "SDG.adjacency_matrix"
   ]
  },
  {
   "cell_type": "code",
   "execution_count": 13,
   "metadata": {},
   "outputs": [
    {
     "data": {
      "text/plain": [
       "array([[-1.,  0.,  0.,  0., -1.,  0.,  0.,  0.,  0.,  0., -1.,  0.],\n",
       "       [ 1.,  0., -1.,  1.,  0., -1.,  0.,  0., -1.,  0.,  0.,  0.],\n",
       "       [ 0., -1.,  1., -1.,  0.,  0., -1.,  0.,  0.,  0.,  0.,  0.],\n",
       "       [ 0.,  0.,  0.,  0.,  1.,  0.,  1.,  0.,  0.,  0.,  0., -1.],\n",
       "       [ 0.,  1.,  0.,  0.,  0.,  1.,  0.,  0.,  0.,  0.,  0.,  0.],\n",
       "       [ 0.,  0.,  0.,  0.,  0.,  0.,  0.,  0.,  0., -1.,  1.,  1.],\n",
       "       [ 0.,  0.,  0.,  0.,  0.,  0.,  0., -1.,  0.,  1.,  0.,  0.],\n",
       "       [ 0.,  0.,  0.,  0.,  0.,  0.,  0.,  1.,  1.,  0.,  0.,  0.]])"
      ]
     },
     "execution_count": 13,
     "metadata": {},
     "output_type": "execute_result"
    }
   ],
   "source": [
    "SDG.incidence_matrix"
   ]
  },
  {
   "cell_type": "code",
   "execution_count": 14,
   "metadata": {},
   "outputs": [
    {
     "data": {
      "text/plain": [
       "{'in': array([[0., 0., 0., 0., 0., 0., 0., 0.],\n",
       "        [0., 2., 0., 0., 0., 0., 0., 0.],\n",
       "        [0., 0., 1., 0., 0., 0., 0., 0.],\n",
       "        [0., 0., 0., 2., 0., 0., 0., 0.],\n",
       "        [0., 0., 0., 0., 2., 0., 0., 0.],\n",
       "        [0., 0., 0., 0., 0., 2., 0., 0.],\n",
       "        [0., 0., 0., 0., 0., 0., 1., 0.],\n",
       "        [0., 0., 0., 0., 0., 0., 0., 2.]]),\n",
       " 'out': array([[3., 0., 0., 0., 0., 0., 0., 0.],\n",
       "        [0., 3., 0., 0., 0., 0., 0., 0.],\n",
       "        [0., 0., 3., 0., 0., 0., 0., 0.],\n",
       "        [0., 0., 0., 1., 0., 0., 0., 0.],\n",
       "        [0., 0., 0., 0., 0., 0., 0., 0.],\n",
       "        [0., 0., 0., 0., 0., 1., 0., 0.],\n",
       "        [0., 0., 0., 0., 0., 0., 1., 0.],\n",
       "        [0., 0., 0., 0., 0., 0., 0., 0.]])}"
      ]
     },
     "execution_count": 14,
     "metadata": {},
     "output_type": "execute_result"
    }
   ],
   "source": [
    "SDG.degree_matrix"
   ]
  },
  {
   "cell_type": "code",
   "execution_count": 15,
   "metadata": {},
   "outputs": [
    {
     "data": {
      "text/plain": [
       "{'in': array([[ 0., -1.,  0., -1.,  0., -1.,  0.,  0.],\n",
       "        [ 0.,  2., -1.,  0., -1.,  0.,  0., -1.],\n",
       "        [ 0., -1.,  1., -1., -1.,  0.,  0.,  0.],\n",
       "        [ 0.,  0.,  0.,  2.,  0., -1.,  0.,  0.],\n",
       "        [ 0.,  0.,  0.,  0.,  2.,  0.,  0.,  0.],\n",
       "        [ 0.,  0.,  0.,  0.,  0.,  2., -1.,  0.],\n",
       "        [ 0.,  0.,  0.,  0.,  0.,  0.,  1., -1.],\n",
       "        [ 0.,  0.,  0.,  0.,  0.,  0.,  0.,  2.]]),\n",
       " 'out': array([[ 3., -1.,  0., -1.,  0., -1.,  0.,  0.],\n",
       "        [ 0.,  3., -1.,  0., -1.,  0.,  0., -1.],\n",
       "        [ 0., -1.,  3., -1., -1.,  0.,  0.,  0.],\n",
       "        [ 0.,  0.,  0.,  1.,  0., -1.,  0.,  0.],\n",
       "        [ 0.,  0.,  0.,  0.,  0.,  0.,  0.,  0.],\n",
       "        [ 0.,  0.,  0.,  0.,  0.,  1., -1.,  0.],\n",
       "        [ 0.,  0.,  0.,  0.,  0.,  0.,  1., -1.],\n",
       "        [ 0.,  0.,  0.,  0.,  0.,  0.,  0.,  0.]])}"
      ]
     },
     "execution_count": 15,
     "metadata": {},
     "output_type": "execute_result"
    }
   ],
   "source": [
    "SDG.laplacian_matrix"
   ]
  },
  {
   "cell_type": "markdown",
   "metadata": {},
   "source": [
    "### Weighted Graphs"
   ]
  },
  {
   "cell_type": "code",
   "execution_count": 16,
   "metadata": {},
   "outputs": [
    {
     "data": {
      "text/plain": [
       "array([[  0.,  20.,   0.,  39.,   0.,  34.,   0.,   0.],\n",
       "       [ 20.,   0.,  34.,   0.,   0.,   0.,   0.,   0.],\n",
       "       [  0.,  34.,   0.,   0.,   6.,   0.,   0.,  76.],\n",
       "       [ 39.,   0.,   0.,   0.,   0.,  77., 456.,   0.],\n",
       "       [  0.,   0.,   6.,   0.,   0.,   0.,   0.,   0.],\n",
       "       [ 34.,   0.,   0.,  77.,   0.,   0.,  66.,   0.],\n",
       "       [  0.,   0.,   0., 456.,   0.,  66.,   0., 456.],\n",
       "       [  0.,   0.,  76.,   0.,   0.,   0., 456.,   0.]])"
      ]
     },
     "execution_count": 16,
     "metadata": {},
     "output_type": "execute_result"
    }
   ],
   "source": [
    "nodes = [0, 1, 2, 3, 4, 5, 6, 7]\n",
    "edges = [((0, 1), 20), ((0, 3), 30), ((0, 3), 39), ((0, 5), 34), ((1, 2), 34), ((2, 4), 6), ((2 , 7), 76), ((3, 6), 456), ((3, 5), 77), ((5, 6), 66), ((6, 7), 456)]\n",
    "WG = WeightedGraph(nodes, edges)\n",
    "\n",
    "WG.adjacency_matrix"
   ]
  },
  {
   "cell_type": "code",
   "execution_count": 17,
   "metadata": {},
   "outputs": [
    {
     "data": {
      "text/plain": [
       "array([[ 20.,  30.,  39.,  34.,   0.,   0.,   0.,   0.,   0.,   0.,   0.],\n",
       "       [ 20.,   0.,   0.,   0.,  34.,   0.,   0.,   0.,   0.,   0.,   0.],\n",
       "       [  0.,   0.,   0.,   0.,  34.,   6.,  76.,   0.,   0.,   0.,   0.],\n",
       "       [  0.,  30.,  39.,   0.,   0.,   0.,   0.,  77., 456.,   0.,   0.],\n",
       "       [  0.,   0.,   0.,   0.,   0.,   6.,   0.,   0.,   0.,   0.,   0.],\n",
       "       [  0.,   0.,   0.,  34.,   0.,   0.,   0.,  77.,   0.,  66.,   0.],\n",
       "       [  0.,   0.,   0.,   0.,   0.,   0.,   0.,   0., 456.,  66., 456.],\n",
       "       [  0.,   0.,   0.,   0.,   0.,   0.,  76.,   0.,   0.,   0., 456.]])"
      ]
     },
     "execution_count": 17,
     "metadata": {},
     "output_type": "execute_result"
    }
   ],
   "source": [
    "WG.incidence_matrix"
   ]
  },
  {
   "cell_type": "code",
   "execution_count": 34,
   "metadata": {},
   "outputs": [
    {
     "data": {
      "text/plain": [
       "array([[3., 0., 0., 0., 0., 0., 0., 0.],\n",
       "       [0., 2., 0., 0., 0., 0., 0., 0.],\n",
       "       [0., 0., 3., 0., 0., 0., 0., 0.],\n",
       "       [0., 0., 0., 3., 0., 0., 0., 0.],\n",
       "       [0., 0., 0., 0., 1., 0., 0., 0.],\n",
       "       [0., 0., 0., 0., 0., 3., 0., 0.],\n",
       "       [0., 0., 0., 0., 0., 0., 3., 0.],\n",
       "       [0., 0., 0., 0., 0., 0., 0., 2.]])"
      ]
     },
     "execution_count": 34,
     "metadata": {},
     "output_type": "execute_result"
    }
   ],
   "source": [
    "WG.degree_matrix"
   ]
  },
  {
   "cell_type": "code",
   "execution_count": 4,
   "metadata": {},
   "outputs": [
    {
     "data": {
      "text/plain": [
       "array([[  0.,  20.,   0.,  39.,   0.,  34.,   0.,   0.],\n",
       "       [ 20.,   0.,  34.,   0.,   0.,   0.,   0.,   0.],\n",
       "       [  0.,  34.,   0.,   0.,   6.,   0.,   0.,  76.],\n",
       "       [ 39.,   0.,   0.,   0.,   0.,  77., 456.,   0.],\n",
       "       [  0.,   0.,   6.,   0.,   0.,   0.,   0.,   0.],\n",
       "       [ 34.,   0.,   0.,  77.,   0.,   0.,  66.,   0.],\n",
       "       [  0.,   0.,   0., 456.,   0.,  66.,   0., 456.],\n",
       "       [  0.,   0.,  76.,   0.,   0.,   0., 456.,   0.]])"
      ]
     },
     "execution_count": 4,
     "metadata": {},
     "output_type": "execute_result"
    }
   ],
   "source": [
    "nodes = [0, 1, 2, 3, 4, 5, 6, 7]\n",
    "edges = [((0, 1), 20), ((0, 3), 39), ((0, 5), 34), ((1, 2), 34), ((2, 4), 6), ((2 , 7), 76), ((3, 6), 456), ((3, 5), 77), ((5, 6), 66), ((6, 7), 456)]\n",
    "SWG = SimpleWeightedGraph(nodes, edges)\n",
    "\n",
    "SWG.adjacency_matrix"
   ]
  },
  {
   "cell_type": "code",
   "execution_count": 5,
   "metadata": {},
   "outputs": [
    {
     "data": {
      "text/plain": [
       "array([[ 20.,  39.,  34.,   0.,   0.,   0.,   0.,   0.,   0.,   0.],\n",
       "       [ 20.,   0.,   0.,  34.,   0.,   0.,   0.,   0.,   0.,   0.],\n",
       "       [  0.,   0.,   0.,  34.,   6.,  76.,   0.,   0.,   0.,   0.],\n",
       "       [  0.,  39.,   0.,   0.,   0.,   0.,  77., 456.,   0.,   0.],\n",
       "       [  0.,   0.,   0.,   0.,   6.,   0.,   0.,   0.,   0.,   0.],\n",
       "       [  0.,   0.,  34.,   0.,   0.,   0.,  77.,   0.,  66.,   0.],\n",
       "       [  0.,   0.,   0.,   0.,   0.,   0.,   0., 456.,  66., 456.],\n",
       "       [  0.,   0.,   0.,   0.,   0.,  76.,   0.,   0.,   0., 456.]])"
      ]
     },
     "execution_count": 5,
     "metadata": {},
     "output_type": "execute_result"
    }
   ],
   "source": [
    "SWG.incidence_matrix"
   ]
  },
  {
   "cell_type": "code",
   "execution_count": 6,
   "metadata": {},
   "outputs": [
    {
     "data": {
      "text/plain": [
       "array([[3., 0., 0., 0., 0., 0., 0., 0.],\n",
       "       [0., 2., 0., 0., 0., 0., 0., 0.],\n",
       "       [0., 0., 3., 0., 0., 0., 0., 0.],\n",
       "       [0., 0., 0., 3., 0., 0., 0., 0.],\n",
       "       [0., 0., 0., 0., 1., 0., 0., 0.],\n",
       "       [0., 0., 0., 0., 0., 3., 0., 0.],\n",
       "       [0., 0., 0., 0., 0., 0., 3., 0.],\n",
       "       [0., 0., 0., 0., 0., 0., 0., 2.]])"
      ]
     },
     "execution_count": 6,
     "metadata": {},
     "output_type": "execute_result"
    }
   ],
   "source": [
    "SWG.degree_matrix"
   ]
  },
  {
   "cell_type": "code",
   "execution_count": 7,
   "metadata": {},
   "outputs": [
    {
     "data": {
      "text/plain": [
       "array([[-3.,  1.,  0.,  1.,  0.,  1.,  0.,  0.],\n",
       "       [ 1., -2.,  1.,  0.,  0.,  0.,  0.,  0.],\n",
       "       [ 0.,  1., -3.,  0.,  1.,  0.,  0.,  1.],\n",
       "       [ 1.,  0.,  0., -3.,  0.,  1.,  1.,  0.],\n",
       "       [ 0.,  0.,  1.,  0., -1.,  0.,  0.,  0.],\n",
       "       [ 1.,  0.,  0.,  1.,  0., -3.,  1.,  0.],\n",
       "       [ 0.,  0.,  0.,  1.,  0.,  1., -3.,  1.],\n",
       "       [ 0.,  0.,  1.,  0.,  0.,  0.,  1., -2.]])"
      ]
     },
     "execution_count": 7,
     "metadata": {},
     "output_type": "execute_result"
    }
   ],
   "source": [
    "SWG.laplacian_matrix"
   ]
  },
  {
   "cell_type": "code",
   "execution_count": 20,
   "metadata": {},
   "outputs": [
    {
     "name": "stdout",
     "output_type": "stream",
     "text": [
      "dimension are okay\n",
      "seems fine\n"
     ]
    }
   ],
   "source": [
    "if len(SWG.edges) == SWG.incidence_matrix.shape[1]:\n",
    "    print('dimension are okay')\n",
    "else: print('Error')\n",
    "if WG.incidence_matrix.shape[1] == SWG.incidence_matrix.shape[1]:\n",
    "    print('Given the test data the dimesnions should be different')\n",
    "else: print('seems fine')"
   ]
  },
  {
   "cell_type": "markdown",
   "metadata": {},
   "source": [
    "## Graph Generator"
   ]
  },
  {
   "cell_type": "code",
   "execution_count": 28,
   "metadata": {},
   "outputs": [
    {
     "name": "stdout",
     "output_type": "stream",
     "text": [
      "[(5, 6), (2, 5), (5, 6), (4, 1), (6, 0), (1, 0), (6, 3)]\n"
     ]
    },
    {
     "data": {
      "text/plain": [
       "array([[0., 1., 0., 0., 0., 0., 1.],\n",
       "       [1., 0., 0., 0., 1., 0., 0.],\n",
       "       [0., 0., 0., 0., 0., 1., 0.],\n",
       "       [0., 0., 0., 0., 0., 0., 1.],\n",
       "       [0., 1., 0., 0., 0., 0., 0.],\n",
       "       [0., 0., 1., 0., 0., 0., 1.],\n",
       "       [1., 0., 0., 1., 0., 1., 0.]])"
      ]
     },
     "execution_count": 28,
     "metadata": {},
     "output_type": "execute_result"
    }
   ],
   "source": [
    "factory = RandomGraphFactory()\n",
    "graph1 = factory.generate_graph(8, 7)\n",
    "graph1.adjacency_matrix"
   ]
  },
  {
   "cell_type": "code",
   "execution_count": 29,
   "metadata": {},
   "outputs": [
    {
     "name": "stdout",
     "output_type": "stream",
     "text": [
      "[(5, 8), (7, 0), (1, 7), (7, 5), (2, 5), (2, 7), (1, 1), (8, 1), (8, 3), (3, 3)]\n"
     ]
    },
    {
     "data": {
      "text/plain": [
       "array([[0., 0., 0., 0., 0., 0., 0., 0., 0.],\n",
       "       [0., 0., 0., 0., 0., 0., 0., 1., 0.],\n",
       "       [0., 0., 0., 0., 0., 1., 0., 1., 0.],\n",
       "       [0., 0., 0., 0., 0., 0., 0., 0., 0.],\n",
       "       [0., 0., 0., 0., 0., 0., 0., 0., 0.],\n",
       "       [0., 0., 0., 0., 0., 0., 0., 0., 1.],\n",
       "       [0., 0., 0., 0., 0., 0., 0., 0., 0.],\n",
       "       [1., 0., 0., 0., 0., 1., 0., 0., 0.],\n",
       "       [0., 1., 0., 1., 0., 0., 0., 0., 0.]])"
      ]
     },
     "execution_count": 29,
     "metadata": {},
     "output_type": "execute_result"
    }
   ],
   "source": [
    "graph2 = factory.generate_graph(10, 10, directed=True)\n",
    "graph2.adjacency_matrix"
   ]
  },
  {
   "cell_type": "code",
   "execution_count": 30,
   "metadata": {},
   "outputs": [
    {
     "name": "stdout",
     "output_type": "stream",
     "text": [
      "[((4, 0), 32), ((4, 4), 9), ((4, 1), 51), ((1, 5), 21), ((1, 8), 40), ((3, 5), 96), ((5, 3), 81), ((5, 8), 21), ((3, 6), 13), ((7, 4), 95)]\n"
     ]
    },
    {
     "data": {
      "text/plain": [
       "array([[ 0.,  0.,  0.,  0., 32.,  0.,  0.,  0.,  0.],\n",
       "       [ 0.,  0.,  0.,  0., 51., 21.,  0.,  0., 40.],\n",
       "       [ 0.,  0.,  0.,  0.,  0.,  0.,  0.,  0.,  0.],\n",
       "       [ 0.,  0.,  0.,  0.,  0., 81., 13.,  0.,  0.],\n",
       "       [32., 51.,  0.,  0.,  0.,  0.,  0., 95.,  0.],\n",
       "       [ 0., 21.,  0., 81.,  0.,  0.,  0.,  0., 21.],\n",
       "       [ 0.,  0.,  0., 13.,  0.,  0.,  0.,  0.,  0.],\n",
       "       [ 0.,  0.,  0.,  0., 95.,  0.,  0.,  0.,  0.],\n",
       "       [ 0., 40.,  0.,  0.,  0., 21.,  0.,  0.,  0.]])"
      ]
     },
     "execution_count": 30,
     "metadata": {},
     "output_type": "execute_result"
    }
   ],
   "source": [
    "graph3 = factory.generate_graph(10, 10, weighted=True)\n",
    "graph3.adjacency_matrix"
   ]
  },
  {
   "cell_type": "code",
   "execution_count": 31,
   "metadata": {},
   "outputs": [
    {
     "name": "stdout",
     "output_type": "stream",
     "text": [
      "[(3, 5)]\n"
     ]
    },
    {
     "data": {
      "text/plain": [
       "array([[0., 0., 0., 0., 0., 0., 0., 0., 0.],\n",
       "       [0., 0., 0., 0., 0., 0., 0., 0., 0.],\n",
       "       [0., 0., 0., 0., 0., 0., 0., 0., 0.],\n",
       "       [0., 0., 0., 0., 0., 1., 0., 0., 0.],\n",
       "       [0., 0., 0., 0., 0., 0., 0., 0., 0.],\n",
       "       [0., 0., 0., 1., 0., 0., 0., 0., 0.],\n",
       "       [0., 0., 0., 0., 0., 0., 0., 0., 0.],\n",
       "       [0., 0., 0., 0., 0., 0., 0., 0., 0.],\n",
       "       [0., 0., 0., 0., 0., 0., 0., 0., 0.]])"
      ]
     },
     "execution_count": 31,
     "metadata": {},
     "output_type": "execute_result"
    }
   ],
   "source": [
    "graph4 = factory.generate_graph(10, simple=False)\n",
    "graph4.adjacency_matrix"
   ]
  },
  {
   "cell_type": "code",
   "execution_count": 32,
   "metadata": {},
   "outputs": [
    {
     "name": "stdout",
     "output_type": "stream",
     "text": [
      "[(3, 7), (3, 7), (8, 7), (2, 0), (1, 4), (7, 5), (5, 5), (6, 5), (2, 0), (8, 0), (0, 1), (0, 6), (6, 3), (8, 1), (8, 1), (0, 6), (1, 8), (0, 6), (4, 8), (1, 5), (1, 1), (7, 3), (2, 1), (4, 6)]\n"
     ]
    },
    {
     "data": {
      "text/plain": [
       "array([[0., 1., 0., 0., 0., 0., 1., 0., 0.],\n",
       "       [0., 1., 0., 0., 1., 1., 0., 0., 1.],\n",
       "       [1., 1., 0., 0., 0., 0., 0., 0., 0.],\n",
       "       [0., 0., 0., 0., 0., 0., 0., 1., 0.],\n",
       "       [0., 0., 0., 0., 0., 0., 1., 0., 1.],\n",
       "       [0., 0., 0., 0., 0., 1., 0., 0., 0.],\n",
       "       [0., 0., 0., 1., 0., 1., 0., 0., 0.],\n",
       "       [0., 0., 0., 1., 0., 1., 0., 0., 0.],\n",
       "       [1., 1., 0., 0., 0., 0., 0., 1., 0.]])"
      ]
     },
     "execution_count": 32,
     "metadata": {},
     "output_type": "execute_result"
    }
   ],
   "source": [
    "graph5 = factory.generate_graph(10, simple=False, directed=True)\n",
    "graph5.adjacency_matrix"
   ]
  },
  {
   "cell_type": "code",
   "execution_count": 33,
   "metadata": {},
   "outputs": [
    {
     "name": "stdout",
     "output_type": "stream",
     "text": [
      "[((2, 0), 38), ((6, 1), 44), ((3, 7), 97), ((2, 4), 70), ((0, 7), 31), ((0, 5), 40), ((2, 4), 30), ((3, 7), 59), ((5, 6), 58), ((7, 7), 26), ((0, 6), 17), ((5, 1), 77), ((0, 2), 67), ((7, 1), 29), ((2, 6), 72), ((2, 1), 14), ((8, 4), 57), ((6, 5), 67), ((7, 1), 0), ((5, 1), 84), ((1, 5), 22), ((8, 6), 62), ((4, 6), 76), ((2, 4), 57), ((8, 5), 3), ((8, 4), 49), ((5, 2), 73), ((5, 8), 26), ((2, 1), 89), ((7, 0), 38), ((6, 3), 86), ((7, 7), 5), ((3, 5), 65), ((8, 8), 96), ((3, 7), 79), ((0, 3), 40), ((4, 0), 61)]\n"
     ]
    },
    {
     "data": {
      "text/plain": [
       "array([[ 0.,  0., 38., 40., 61., 40., 17., 38.,  0.],\n",
       "       [ 0.,  0., 89.,  0.,  0., 84., 44.,  0.,  0.],\n",
       "       [38., 89.,  0.,  0., 57., 73., 72.,  0.,  0.],\n",
       "       [40.,  0.,  0.,  0.,  0., 65., 86., 79.,  0.],\n",
       "       [61.,  0., 57.,  0.,  0.,  0., 76.,  0., 49.],\n",
       "       [40., 84., 73., 65.,  0.,  0., 67.,  0.,  3.],\n",
       "       [17., 44., 72., 86., 76., 67.,  0.,  0., 62.],\n",
       "       [38.,  0.,  0., 79.,  0.,  0.,  0.,  5.,  0.],\n",
       "       [ 0.,  0.,  0.,  0., 49.,  3., 62.,  0., 96.]])"
      ]
     },
     "execution_count": 33,
     "metadata": {},
     "output_type": "execute_result"
    }
   ],
   "source": [
    "graph6 = factory.generate_graph(10, simple=False, weighted=True)\n",
    "graph6.adjacency_matrix"
   ]
  },
  {
   "cell_type": "markdown",
   "metadata": {},
   "source": [
    "# Data Transformer"
   ]
  },
  {
   "cell_type": "code",
   "execution_count": 23,
   "metadata": {},
   "outputs": [
    {
     "data": {
      "text/plain": [
       "([0, 1, 2, 3, 4, 5, 6, 7],\n",
       " [(0, 1),\n",
       "  (0, 3),\n",
       "  (0, 5),\n",
       "  (1, 2),\n",
       "  (2, 1),\n",
       "  (1, 4),\n",
       "  (1, 7),\n",
       "  (2, 3),\n",
       "  (2, 4),\n",
       "  (3, 5),\n",
       "  (5, 6),\n",
       "  (6, 7)])"
      ]
     },
     "execution_count": 23,
     "metadata": {},
     "output_type": "execute_result"
    }
   ],
   "source": [
    "nodes = [0, 1, 2, 3, 4, 5, 6, 7]\n",
    "edges = [(0, 1), (0, 3), (0, 5), (1, 2), (2, 1), (1, 4), (1, 7), (2, 3), (2, 4), (3, 5), (5, 6), (6, 7)]\n",
    "\n",
    "dt = DataTransformer()\n",
    "dt.transform_input(nodes, edges, weighted=False)"
   ]
  },
  {
   "cell_type": "code",
   "execution_count": 22,
   "metadata": {},
   "outputs": [
    {
     "data": {
      "text/plain": [
       "([0, 1, 2, 3], [(0, 2), (0, 2), (2, 1), (0, 1), (1, 3)])"
      ]
     },
     "execution_count": 22,
     "metadata": {},
     "output_type": "execute_result"
    }
   ],
   "source": [
    "nodes = ['e', '5', '7', '4']\n",
    "edges = [('e', '7'), ('e', '7'), ( '7', '5'), ('e','5'), ('5','4')]\n",
    "\n",
    "dt = DataTransformer()\n",
    "dt.transform_input(nodes, edges, weighted=False)"
   ]
  },
  {
   "cell_type": "code",
   "execution_count": 24,
   "metadata": {},
   "outputs": [
    {
     "data": {
      "text/plain": [
       "([0, 1, 2, 3, 4], [(0, 2), (0, 4), (2, 1), (0, 1), (1, 3)])"
      ]
     },
     "execution_count": 24,
     "metadata": {},
     "output_type": "execute_result"
    }
   ],
   "source": [
    "ob = object()\n",
    "\n",
    "nodes = ['e', '5', '7', '4', ob]\n",
    "edges = [('e', '7'), ('e', ob), ( '7', '5'), ('e','5'), ('5','4')]\n",
    "\n",
    "dt = DataTransformer()\n",
    "dt.transform_input(nodes, edges, weighted=False)"
   ]
  },
  {
   "cell_type": "code",
   "execution_count": 27,
   "metadata": {},
   "outputs": [
    {
     "data": {
      "text/plain": [
       "([0, 1, 2, 3, 4, 5, 6, 7, 8],\n",
       " [(0, 1),\n",
       "  (0, 3),\n",
       "  (0, 5),\n",
       "  (1, 7),\n",
       "  (2, 4),\n",
       "  (2, 8),\n",
       "  (8, 6),\n",
       "  (3, 5),\n",
       "  (5, 6),\n",
       "  (6, 7)])"
      ]
     },
     "execution_count": 27,
     "metadata": {},
     "output_type": "execute_result"
    }
   ],
   "source": [
    "nodes = [0, 1, 2, 3, 4, 5, 6, '8', ob]\n",
    "edges = [((0, 1), 20), ((0, 3), 39), ((0, 5), 34), ((1, '8'), 34), ((2, 4), 6), ((2 , ob), 76), ((ob, 6), 456), ((3, 5), 77), ((5, 6), 66), ((6, '8'), 456)]\n",
    "dt = DataTransformer()\n",
    "dt.transform_input(nodes, edges, weighted=True)"
   ]
  },
  {
   "cell_type": "code",
   "execution_count": null,
   "metadata": {},
   "outputs": [],
   "source": []
  },
  {
   "cell_type": "markdown",
   "metadata": {},
   "source": [
    "# Garbage garage"
   ]
  }
 ],
 "metadata": {
  "kernelspec": {
   "display_name": "Python 3.10.4 64-bit",
   "language": "python",
   "name": "python3"
  },
  "language_info": {
   "codemirror_mode": {
    "name": "ipython",
    "version": 3
   },
   "file_extension": ".py",
   "mimetype": "text/x-python",
   "name": "python",
   "nbconvert_exporter": "python",
   "pygments_lexer": "ipython3",
   "version": "3.10.4"
  },
  "orig_nbformat": 4,
  "vscode": {
   "interpreter": {
    "hash": "c809f26e9b68fa75e21fff38701045ece19f929d41ad4d220c4fe5e0c88b26a1"
   }
  }
 },
 "nbformat": 4,
 "nbformat_minor": 2
}
