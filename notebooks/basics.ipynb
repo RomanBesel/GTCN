{
 "cells": [
  {
   "cell_type": "code",
   "execution_count": 37,
   "metadata": {},
   "outputs": [
    {
     "name": "stdout",
     "output_type": "stream",
     "text": [
      "The autoreload extension is already loaded. To reload it, use:\n",
      "  %reload_ext autoreload\n"
     ]
    }
   ],
   "source": [
    "%load_ext autoreload\n",
    "%autoreload 2\n",
    "\n",
    "import pandas as pd\n",
    "import networkx as nx\n",
    "import numpy as np\n",
    "\n",
    "import mygraphs as mg\n",
    "import utility as ut\n",
    "from mygraphs.base_graph import BaseGraph\n",
    "from mygraphs.standard_graphs import *\n",
    "from mygraphs.directed_graphs import *\n",
    "from mygraphs.weighted_graphs import *\n",
    "from utility.graph_generator import *\n",
    "from utility.data_transformer import DataTransformer\n",
    "\n",
    "import testing\n",
    "from testing.test_graphs import *\n",
    "\n",
    "import os"
   ]
  },
  {
   "cell_type": "code",
   "execution_count": 38,
   "metadata": {},
   "outputs": [],
   "source": [
    "gt = GraphTest()\n",
    "df =gt.load_test_data()"
   ]
  },
  {
   "cell_type": "code",
   "execution_count": 10,
   "metadata": {},
   "outputs": [
    {
     "data": {
      "text/plain": [
       "simple        bool\n",
       "directed      bool\n",
       "weighted      bool\n",
       "nodes       object\n",
       "edges       object\n",
       "dtype: object"
      ]
     },
     "execution_count": 10,
     "metadata": {},
     "output_type": "execute_result"
    }
   ],
   "source": [
    "df.dtypes"
   ]
  },
  {
   "cell_type": "code",
   "execution_count": 40,
   "metadata": {},
   "outputs": [
    {
     "name": "stdout",
     "output_type": "stream",
     "text": [
      "Failed base property test 2.\n",
      "An error occured at graph object <standard_graphs.Graph object at 0x00000183F4866950>. Please control the code or test data to resolve the error.\n",
      "Failed base property test 2.\n",
      "An error occured at graph object <standard_graphs.Graph object at 0x00000183F4AE5330>. Please control the code or test data to resolve the error.\n",
      "Failed base property test 2.\n",
      "An error occured at graph object <standard_graphs.Graph object at 0x00000183F4866830>. Please control the code or test data to resolve the error.\n",
      "Graph<standard_graphs.SimpleGraph object at 0x00000183F4AE5000> has passed property tests successful at 2022-07-02 16:44:09.437072.\n",
      "Graph<standard_graphs.SimpleGraph object at 0x00000183F4AE5600> has passed property tests successful at 2022-07-02 16:44:09.438081.\n",
      "Graph<standard_graphs.SimpleGraph object at 0x00000183F4AE4DC0> has passed property tests successful at 2022-07-02 16:44:09.438081.\n",
      "Failed directed property test.\n",
      "An error occured at graph object <directed_graphs.DirectedGraph object at 0x00000183F4AE5B70>. Please control the code or test data to resolve the error.\n",
      "Failed directed property test.\n",
      "An error occured at graph object <directed_graphs.DirectedGraph object at 0x00000183F4AE5330>. Please control the code or test data to resolve the error.\n",
      "Failed directed property test.\n",
      "An error occured at graph object <directed_graphs.DirectedGraph object at 0x00000183F4AE4BE0>. Please control the code or test data to resolve the error.\n",
      "Graph<directed_graphs.SimpleDirectedGraph object at 0x00000183F4AE4BB0> has passed property tests successful at 2022-07-02 16:44:09.439089.\n",
      "Graph<directed_graphs.SimpleDirectedGraph object at 0x00000183F4972770> has passed property tests successful at 2022-07-02 16:44:09.439089.\n",
      "Graph<directed_graphs.SimpleDirectedGraph object at 0x00000183F4973B50> has passed property tests successful at 2022-07-02 16:44:09.439089.\n",
      "Graph<weighted_graphs.WeightedGraph object at 0x00000183F4973BB0> has passed property tests successful at 2022-07-02 16:44:09.439089.\n",
      "Graph<weighted_graphs.WeightedGraph object at 0x00000183F49746A0> has passed property tests successful at 2022-07-02 16:44:09.439089.\n"
     ]
    },
    {
     "ename": "TypeError",
     "evalue": "'int' object is not reversible",
     "output_type": "error",
     "traceback": [
      "\u001b[1;31m---------------------------------------------------------------------------\u001b[0m",
      "\u001b[1;31mTypeError\u001b[0m                                 Traceback (most recent call last)",
      "\u001b[1;32mc:\\Users\\roman\\dev\\git dev\\GTCN\\notebooks\\basics.ipynb Cell 4'\u001b[0m in \u001b[0;36m<cell line: 1>\u001b[1;34m()\u001b[0m\n\u001b[1;32m----> <a href='vscode-notebook-cell:/c%3A/Users/roman/dev/git%20dev/GTCN/notebooks/basics.ipynb#ch0000045?line=0'>1</a>\u001b[0m gt\u001b[39m.\u001b[39;49mtest_graphs()\n",
      "File \u001b[1;32m~\\dev\\git dev\\GTCN\\testing\\test_graphs.py:24\u001b[0m, in \u001b[0;36mGraphTest.test_graphs\u001b[1;34m(self, number_graphs)\u001b[0m\n\u001b[0;32m     22\u001b[0m nodes \u001b[39m=\u001b[39m ast\u001b[39m.\u001b[39mliteral_eval(row[\u001b[39m'\u001b[39m\u001b[39mnodes\u001b[39m\u001b[39m'\u001b[39m])\n\u001b[0;32m     23\u001b[0m edges \u001b[39m=\u001b[39m ast\u001b[39m.\u001b[39mliteral_eval(row[\u001b[39m'\u001b[39m\u001b[39medges\u001b[39m\u001b[39m'\u001b[39m])\n\u001b[1;32m---> 24\u001b[0m g \u001b[39m=\u001b[39m \u001b[39mself\u001b[39;49m\u001b[39m.\u001b[39;49mfactory\u001b[39m.\u001b[39;49mgenerate_graph(nodes, edges, row[\u001b[39m'\u001b[39;49m\u001b[39msimple\u001b[39;49m\u001b[39m'\u001b[39;49m], row[\u001b[39m'\u001b[39;49m\u001b[39mdirected\u001b[39;49m\u001b[39m'\u001b[39;49m], row[\u001b[39m'\u001b[39;49m\u001b[39mweighted\u001b[39;49m\u001b[39m'\u001b[39;49m])\n\u001b[0;32m     25\u001b[0m \u001b[39mself\u001b[39m\u001b[39m.\u001b[39mtest_graph_properties(g, row[\u001b[39m'\u001b[39m\u001b[39msimple\u001b[39m\u001b[39m'\u001b[39m], row[\u001b[39m'\u001b[39m\u001b[39mdirected\u001b[39m\u001b[39m'\u001b[39m], row[\u001b[39m'\u001b[39m\u001b[39mweighted\u001b[39m\u001b[39m'\u001b[39m])\n",
      "File \u001b[1;32m~\\dev\\git dev\\GTCN\\utility\\graph_generator.py:65\u001b[0m, in \u001b[0;36mGraphFactory.generate_graph\u001b[1;34m(self, n, e, simple, directed, weighted)\u001b[0m\n\u001b[0;32m     63\u001b[0m \u001b[39mdef\u001b[39;00m \u001b[39mgenerate_graph\u001b[39m(\u001b[39mself\u001b[39m, n: \u001b[39mlist\u001b[39m, e: \u001b[39mlist\u001b[39m, simple: \u001b[39mbool\u001b[39m \u001b[39m=\u001b[39m \u001b[39mFalse\u001b[39;00m, directed: \u001b[39mbool\u001b[39m \u001b[39m=\u001b[39m \u001b[39mFalse\u001b[39;00m, weighted: \u001b[39mbool\u001b[39m \u001b[39m=\u001b[39m \u001b[39mFalse\u001b[39;00m) \u001b[39m-\u001b[39m\u001b[39m>\u001b[39m \u001b[39mobject\u001b[39m:\n\u001b[0;32m     64\u001b[0m     n, e \u001b[39m=\u001b[39m \u001b[39mself\u001b[39m\u001b[39m.\u001b[39mdata_transformer\u001b[39m.\u001b[39mtransform_input(n, e, weighted)\n\u001b[1;32m---> 65\u001b[0m     \u001b[39mreturn\u001b[39;00m \u001b[39mself\u001b[39;49m\u001b[39m.\u001b[39;49mgraph(n, e, simple, directed, weighted)\n",
      "File \u001b[1;32m~\\dev\\git dev\\GTCN\\utility\\graph_generator.py:82\u001b[0m, in \u001b[0;36mGraphFactory.graph\u001b[1;34m(self, nodes, edges, simple, directed, weighted)\u001b[0m\n\u001b[0;32m     80\u001b[0m     \u001b[39mreturn\u001b[39;00m DirectedGraph(nodes, edges)\n\u001b[0;32m     81\u001b[0m \u001b[39melif\u001b[39;00m (directed \u001b[39m==\u001b[39m \u001b[39mFalse\u001b[39;00m) \u001b[39m&\u001b[39m (weighted \u001b[39m==\u001b[39m \u001b[39mTrue\u001b[39;00m):\n\u001b[1;32m---> 82\u001b[0m     \u001b[39mreturn\u001b[39;00m WeightedGraph(nodes, edges)\n\u001b[0;32m     83\u001b[0m \u001b[39melse\u001b[39;00m: \u001b[39mraise\u001b[39;00m \u001b[39mValueError\u001b[39;00m(\u001b[39m'\u001b[39m\u001b[39mError in graph construction. Property case doesnt exist.\u001b[39m\u001b[39m'\u001b[39m)\n",
      "File \u001b[1;32m~\\dev\\git dev\\GTCN\\mygraphs\\weighted_graphs.py:13\u001b[0m, in \u001b[0;36mWeightedGraph.__init__\u001b[1;34m(self, nod, edg)\u001b[0m\n\u001b[0;32m     12\u001b[0m \u001b[39mdef\u001b[39;00m \u001b[39m__init__\u001b[39m(\u001b[39mself\u001b[39m, nod: \u001b[39mlist\u001b[39m, edg: \u001b[39mlist\u001b[39m):\n\u001b[1;32m---> 13\u001b[0m     \u001b[39msuper\u001b[39;49m()\u001b[39m.\u001b[39;49m\u001b[39m__init__\u001b[39;49m(nod, edg)\n",
      "File \u001b[1;32m~\\dev\\git dev\\GTCN\\mygraphs\\standard_graphs.py:10\u001b[0m, in \u001b[0;36mGraph.__init__\u001b[1;34m(self, nod, edg)\u001b[0m\n\u001b[0;32m      9\u001b[0m \u001b[39mdef\u001b[39;00m \u001b[39m__init__\u001b[39m(\u001b[39mself\u001b[39m, nod: \u001b[39mlist\u001b[39m, edg: \u001b[39mlist\u001b[39m):\n\u001b[1;32m---> 10\u001b[0m     \u001b[39msuper\u001b[39;49m()\u001b[39m.\u001b[39;49m\u001b[39m__init__\u001b[39;49m(nod, edg)\n",
      "File \u001b[1;32m~\\dev\\git dev\\GTCN\\mygraphs\\base_graph.py:8\u001b[0m, in \u001b[0;36mBaseGraph.__init__\u001b[1;34m(self, nodes, edges)\u001b[0m\n\u001b[0;32m      6\u001b[0m \u001b[39mself\u001b[39m\u001b[39m.\u001b[39mnodes \u001b[39m=\u001b[39m \u001b[39mset\u001b[39m(\u001b[39msorted\u001b[39m(nodes))\n\u001b[0;32m      7\u001b[0m \u001b[39mself\u001b[39m\u001b[39m.\u001b[39medges \u001b[39m=\u001b[39m edges\n\u001b[1;32m----> 8\u001b[0m \u001b[39mself\u001b[39m\u001b[39m.\u001b[39madjacency_matrix \u001b[39m=\u001b[39m \u001b[39mself\u001b[39;49m\u001b[39m.\u001b[39;49mconstruct_adjacency_matrix()\n\u001b[0;32m      9\u001b[0m \u001b[39mself\u001b[39m\u001b[39m.\u001b[39mincidence_matrix \u001b[39m=\u001b[39m \u001b[39mself\u001b[39m\u001b[39m.\u001b[39mconstruct_incidence_matrix()\n\u001b[0;32m     10\u001b[0m \u001b[39mself\u001b[39m\u001b[39m.\u001b[39mdegree_matrix \u001b[39m=\u001b[39m \u001b[39mself\u001b[39m\u001b[39m.\u001b[39mconstruct_degree_matrix()\n",
      "File \u001b[1;32m~\\dev\\git dev\\GTCN\\mygraphs\\weighted_graphs.py:28\u001b[0m, in \u001b[0;36mWeightedGraph.construct_adjacency_matrix\u001b[1;34m(self)\u001b[0m\n\u001b[0;32m     26\u001b[0m \u001b[39mfor\u001b[39;00m edge \u001b[39min\u001b[39;00m \u001b[39mself\u001b[39m\u001b[39m.\u001b[39medges:\n\u001b[0;32m     27\u001b[0m     array[edge[\u001b[39m0\u001b[39m]] \u001b[39m=\u001b[39m edge[\u001b[39m1\u001b[39m] \u001b[39m# instead of 1 here the weight is set as value\u001b[39;00m\n\u001b[1;32m---> 28\u001b[0m     array[\u001b[39mtuple\u001b[39m(\u001b[39mreversed\u001b[39;49m(edge[\u001b[39m0\u001b[39;49m]))] \u001b[39m=\u001b[39m edge[\u001b[39m1\u001b[39m] \u001b[39m# same as above\u001b[39;00m\n\u001b[0;32m     29\u001b[0m \u001b[39mreturn\u001b[39;00m array\n",
      "\u001b[1;31mTypeError\u001b[0m: 'int' object is not reversible"
     ]
    }
   ],
   "source": [
    "gt.test_graphs()"
   ]
  },
  {
   "cell_type": "markdown",
   "metadata": {},
   "source": [
    "## Graphs"
   ]
  },
  {
   "cell_type": "markdown",
   "metadata": {},
   "source": [
    "### Standard Graphs"
   ]
  },
  {
   "cell_type": "code",
   "execution_count": 7,
   "metadata": {},
   "outputs": [
    {
     "data": {
      "text/plain": [
       "array([[1., 1., 0., 2., 0., 1., 0., 0.],\n",
       "       [1., 2., 1., 0., 0., 0., 0., 0.],\n",
       "       [0., 1., 0., 0., 1., 0., 0., 1.],\n",
       "       [2., 0., 0., 0., 0., 1., 1., 0.],\n",
       "       [0., 0., 1., 0., 0., 0., 0., 0.],\n",
       "       [1., 0., 0., 1., 0., 0., 1., 0.],\n",
       "       [0., 0., 0., 1., 0., 1., 0., 1.],\n",
       "       [0., 0., 1., 0., 0., 0., 1., 0.]])"
      ]
     },
     "execution_count": 7,
     "metadata": {},
     "output_type": "execute_result"
    }
   ],
   "source": [
    "nodes = [0, 1, 2, 3, 4, 5, 6, 7]\n",
    "edges = [(0, 1), (0, 0), (1, 1), (1, 1), (0, 3), (0, 3), (0, 5), (1, 2), (2, 4), (2 , 7), (3, 6), (3, 5), (5, 6), (6, 7)]\n",
    "G = Graph(nodes, edges)\n",
    "\n",
    "G.adjacency_matrix"
   ]
  },
  {
   "cell_type": "code",
   "execution_count": 8,
   "metadata": {},
   "outputs": [
    {
     "data": {
      "text/plain": [
       "array([[1., 1., 2., 1., 0., 0., 0., 0., 0., 0., 0., 0.],\n",
       "       [0., 1., 0., 0., 2., 1., 0., 0., 0., 0., 0., 0.],\n",
       "       [0., 0., 0., 0., 0., 1., 1., 1., 0., 0., 0., 0.],\n",
       "       [0., 0., 2., 0., 0., 0., 0., 0., 1., 1., 0., 0.],\n",
       "       [0., 0., 0., 0., 0., 0., 1., 0., 0., 0., 0., 0.],\n",
       "       [0., 0., 0., 1., 0., 0., 0., 0., 1., 0., 1., 0.],\n",
       "       [0., 0., 0., 0., 0., 0., 0., 0., 0., 1., 1., 1.],\n",
       "       [0., 0., 0., 0., 0., 0., 0., 1., 0., 0., 0., 1.]])"
      ]
     },
     "execution_count": 8,
     "metadata": {},
     "output_type": "execute_result"
    }
   ],
   "source": [
    "G.incidence_matrix"
   ]
  },
  {
   "cell_type": "code",
   "execution_count": 4,
   "metadata": {},
   "outputs": [
    {
     "data": {
      "text/plain": [
       "array([[5., 0., 0., 0., 0., 0., 0., 0.],\n",
       "       [0., 4., 0., 0., 0., 0., 0., 0.],\n",
       "       [0., 0., 3., 0., 0., 0., 0., 0.],\n",
       "       [0., 0., 0., 4., 0., 0., 0., 0.],\n",
       "       [0., 0., 0., 0., 1., 0., 0., 0.],\n",
       "       [0., 0., 0., 0., 0., 3., 0., 0.],\n",
       "       [0., 0., 0., 0., 0., 0., 3., 0.],\n",
       "       [0., 0., 0., 0., 0., 0., 0., 2.]])"
      ]
     },
     "execution_count": 4,
     "metadata": {},
     "output_type": "execute_result"
    }
   ],
   "source": [
    "G.degree_matrix"
   ]
  },
  {
   "cell_type": "code",
   "execution_count": 7,
   "metadata": {},
   "outputs": [
    {
     "data": {
      "text/plain": [
       "array([[0., 1., 0., 1., 0., 1., 0., 0.],\n",
       "       [1., 0., 1., 0., 0., 0., 0., 0.],\n",
       "       [0., 1., 0., 0., 1., 0., 0., 1.],\n",
       "       [1., 0., 0., 0., 0., 1., 1., 0.],\n",
       "       [0., 0., 1., 0., 0., 0., 0., 0.],\n",
       "       [1., 0., 0., 1., 0., 0., 1., 0.],\n",
       "       [0., 0., 0., 1., 0., 1., 0., 1.],\n",
       "       [0., 0., 1., 0., 0., 0., 1., 0.]])"
      ]
     },
     "execution_count": 7,
     "metadata": {},
     "output_type": "execute_result"
    }
   ],
   "source": [
    "nodes = [0, 1, 2, 3, 4, 5, 6, 7]\n",
    "edges = [(0, 1), (0, 0), (1, 1), (1, 1), (0, 3), (0, 3), (0, 5), (1, 2), (2, 4), (2 , 7), (3, 6), (3, 5), (5, 6), (6, 7)]\n",
    "SG = SimpleGraph(nodes, edges)\n",
    "\n",
    "SG.adjacency_matrix"
   ]
  },
  {
   "cell_type": "code",
   "execution_count": 6,
   "metadata": {},
   "outputs": [
    {
     "data": {
      "text/plain": [
       "array([[1., 0., 0., 0., 1., 0., 0., 1., 0., 0.],\n",
       "       [1., 0., 1., 0., 0., 0., 0., 0., 0., 0.],\n",
       "       [0., 1., 1., 1., 0., 0., 0., 0., 0., 0.],\n",
       "       [0., 0., 0., 0., 1., 0., 0., 0., 1., 1.],\n",
       "       [0., 1., 0., 0., 0., 0., 0., 0., 0., 0.],\n",
       "       [0., 0., 0., 0., 0., 0., 1., 1., 0., 1.],\n",
       "       [0., 0., 0., 0., 0., 1., 1., 0., 1., 0.],\n",
       "       [0., 0., 0., 1., 0., 1., 0., 0., 0., 0.]])"
      ]
     },
     "execution_count": 6,
     "metadata": {},
     "output_type": "execute_result"
    }
   ],
   "source": [
    "SG.incidence_matrix"
   ]
  },
  {
   "cell_type": "code",
   "execution_count": 7,
   "metadata": {},
   "outputs": [
    {
     "data": {
      "text/plain": [
       "array([[3., 0., 0., 0., 0., 0., 0., 0.],\n",
       "       [0., 2., 0., 0., 0., 0., 0., 0.],\n",
       "       [0., 0., 3., 0., 0., 0., 0., 0.],\n",
       "       [0., 0., 0., 3., 0., 0., 0., 0.],\n",
       "       [0., 0., 0., 0., 1., 0., 0., 0.],\n",
       "       [0., 0., 0., 0., 0., 3., 0., 0.],\n",
       "       [0., 0., 0., 0., 0., 0., 3., 0.],\n",
       "       [0., 0., 0., 0., 0., 0., 0., 2.]])"
      ]
     },
     "execution_count": 7,
     "metadata": {},
     "output_type": "execute_result"
    }
   ],
   "source": [
    "SG.degree_matrix"
   ]
  },
  {
   "cell_type": "code",
   "execution_count": 8,
   "metadata": {},
   "outputs": [
    {
     "data": {
      "text/plain": [
       "array([[-3.,  1.,  0.,  1.,  0.,  1.,  0.,  0.],\n",
       "       [ 1., -2.,  1.,  0.,  0.,  0.,  0.,  0.],\n",
       "       [ 0.,  1., -3.,  0.,  1.,  0.,  0.,  1.],\n",
       "       [ 1.,  0.,  0., -3.,  0.,  1.,  1.,  0.],\n",
       "       [ 0.,  0.,  1.,  0., -1.,  0.,  0.,  0.],\n",
       "       [ 1.,  0.,  0.,  1.,  0., -3.,  1.,  0.],\n",
       "       [ 0.,  0.,  0.,  1.,  0.,  1., -3.,  1.],\n",
       "       [ 0.,  0.,  1.,  0.,  0.,  0.,  1., -2.]])"
      ]
     },
     "execution_count": 8,
     "metadata": {},
     "output_type": "execute_result"
    }
   ],
   "source": [
    "SG.laplacian_matrix"
   ]
  },
  {
   "cell_type": "markdown",
   "metadata": {},
   "source": [
    "### Directed Graphs"
   ]
  },
  {
   "cell_type": "code",
   "execution_count": 9,
   "metadata": {},
   "outputs": [
    {
     "data": {
      "text/plain": [
       "array([[0., 1., 0., 1., 0., 1., 0., 0.],\n",
       "       [0., 0., 1., 0., 1., 0., 0., 1.],\n",
       "       [0., 1., 0., 1., 1., 0., 0., 0.],\n",
       "       [0., 0., 0., 0., 0., 1., 0., 0.],\n",
       "       [0., 0., 0., 0., 0., 0., 0., 0.],\n",
       "       [0., 0., 0., 0., 0., 0., 1., 0.],\n",
       "       [0., 0., 0., 0., 0., 0., 0., 1.],\n",
       "       [0., 0., 0., 0., 0., 0., 0., 0.]])"
      ]
     },
     "execution_count": 9,
     "metadata": {},
     "output_type": "execute_result"
    }
   ],
   "source": [
    "nodes = [0, 1, 2, 3, 4, 5, 6, 7]\n",
    "edges = [(0, 1), (0, 3), (0, 5), (1, 2), (2, 1), (1, 4), (4, 1), (1, 7), (2, 3), (2, 4), (3, 5), (5, 6), (6, 7)]\n",
    "DG = DirectedGraph(nodes, edges)\n",
    "\n",
    "DG.adjacency_matrix"
   ]
  },
  {
   "cell_type": "code",
   "execution_count": 10,
   "metadata": {},
   "outputs": [
    {
     "data": {
      "text/plain": [
       "array([[-1., -1., -1.,  0.,  0.,  0.,  0.,  0.,  0.,  0.,  0.,  0.],\n",
       "       [ 1.,  0.,  0., -1., -1., -1.,  1.,  0.,  0.,  0.,  0.,  0.],\n",
       "       [ 0.,  0.,  0.,  1.,  0.,  0., -1., -1., -1.,  0.,  0.,  0.],\n",
       "       [ 0.,  1.,  0.,  0.,  0.,  0.,  0.,  1.,  0., -1.,  0.,  0.],\n",
       "       [ 0.,  0.,  0.,  0.,  1.,  0.,  0.,  0.,  1.,  0.,  0.,  0.],\n",
       "       [ 0.,  0.,  1.,  0.,  0.,  0.,  0.,  0.,  0.,  1., -1.,  0.],\n",
       "       [ 0.,  0.,  0.,  0.,  0.,  0.,  0.,  0.,  0.,  0.,  1., -1.],\n",
       "       [ 0.,  0.,  0.,  0.,  0.,  1.,  0.,  0.,  0.,  0.,  0.,  1.]])"
      ]
     },
     "execution_count": 10,
     "metadata": {},
     "output_type": "execute_result"
    }
   ],
   "source": [
    "DG.incidence_matrix"
   ]
  },
  {
   "cell_type": "code",
   "execution_count": 11,
   "metadata": {},
   "outputs": [
    {
     "data": {
      "text/plain": [
       "{'in': array([[0., 0., 0., 0., 0., 0., 0., 0.],\n",
       "        [0., 2., 0., 0., 0., 0., 0., 0.],\n",
       "        [0., 0., 1., 0., 0., 0., 0., 0.],\n",
       "        [0., 0., 0., 2., 0., 0., 0., 0.],\n",
       "        [0., 0., 0., 0., 2., 0., 0., 0.],\n",
       "        [0., 0., 0., 0., 0., 2., 0., 0.],\n",
       "        [0., 0., 0., 0., 0., 0., 1., 0.],\n",
       "        [0., 0., 0., 0., 0., 0., 0., 2.]]),\n",
       " 'out': array([[3., 0., 0., 0., 0., 0., 0., 0.],\n",
       "        [0., 3., 0., 0., 0., 0., 0., 0.],\n",
       "        [0., 0., 3., 0., 0., 0., 0., 0.],\n",
       "        [0., 0., 0., 1., 0., 0., 0., 0.],\n",
       "        [0., 0., 0., 0., 0., 0., 0., 0.],\n",
       "        [0., 0., 0., 0., 0., 1., 0., 0.],\n",
       "        [0., 0., 0., 0., 0., 0., 1., 0.],\n",
       "        [0., 0., 0., 0., 0., 0., 0., 0.]])}"
      ]
     },
     "execution_count": 11,
     "metadata": {},
     "output_type": "execute_result"
    }
   ],
   "source": [
    "DG.degree_matrix"
   ]
  },
  {
   "cell_type": "code",
   "execution_count": 12,
   "metadata": {},
   "outputs": [
    {
     "data": {
      "text/plain": [
       "array([[0., 1., 0., 1., 0., 1., 0., 0.],\n",
       "       [0., 0., 1., 0., 1., 0., 0., 1.],\n",
       "       [0., 1., 0., 1., 1., 0., 0., 0.],\n",
       "       [0., 0., 0., 0., 0., 1., 0., 0.],\n",
       "       [0., 0., 0., 0., 0., 0., 0., 0.],\n",
       "       [0., 0., 0., 0., 0., 0., 1., 0.],\n",
       "       [0., 0., 0., 0., 0., 0., 0., 1.],\n",
       "       [0., 0., 0., 0., 0., 0., 0., 0.]])"
      ]
     },
     "execution_count": 12,
     "metadata": {},
     "output_type": "execute_result"
    }
   ],
   "source": [
    "nodes = [0, 1, 2, 3, 4, 5, 6, 7]\n",
    "edges = [(0, 1), (0, 3), (0, 5), (1, 2), (2, 1), (1, 4), (1, 7), (2, 3), (2, 4), (3, 5), (5, 6), (6, 7)]\n",
    "SDG = SimpleDirectedGraph(nodes, edges)\n",
    "\n",
    "SDG.adjacency_matrix"
   ]
  },
  {
   "cell_type": "code",
   "execution_count": 13,
   "metadata": {},
   "outputs": [
    {
     "data": {
      "text/plain": [
       "array([[-1.,  0.,  0.,  0., -1.,  0.,  0.,  0.,  0.,  0., -1.,  0.],\n",
       "       [ 1.,  0., -1.,  1.,  0., -1.,  0.,  0., -1.,  0.,  0.,  0.],\n",
       "       [ 0., -1.,  1., -1.,  0.,  0., -1.,  0.,  0.,  0.,  0.,  0.],\n",
       "       [ 0.,  0.,  0.,  0.,  1.,  0.,  1.,  0.,  0.,  0.,  0., -1.],\n",
       "       [ 0.,  1.,  0.,  0.,  0.,  1.,  0.,  0.,  0.,  0.,  0.,  0.],\n",
       "       [ 0.,  0.,  0.,  0.,  0.,  0.,  0.,  0.,  0., -1.,  1.,  1.],\n",
       "       [ 0.,  0.,  0.,  0.,  0.,  0.,  0., -1.,  0.,  1.,  0.,  0.],\n",
       "       [ 0.,  0.,  0.,  0.,  0.,  0.,  0.,  1.,  1.,  0.,  0.,  0.]])"
      ]
     },
     "execution_count": 13,
     "metadata": {},
     "output_type": "execute_result"
    }
   ],
   "source": [
    "SDG.incidence_matrix"
   ]
  },
  {
   "cell_type": "code",
   "execution_count": 14,
   "metadata": {},
   "outputs": [
    {
     "data": {
      "text/plain": [
       "{'in': array([[0., 0., 0., 0., 0., 0., 0., 0.],\n",
       "        [0., 2., 0., 0., 0., 0., 0., 0.],\n",
       "        [0., 0., 1., 0., 0., 0., 0., 0.],\n",
       "        [0., 0., 0., 2., 0., 0., 0., 0.],\n",
       "        [0., 0., 0., 0., 2., 0., 0., 0.],\n",
       "        [0., 0., 0., 0., 0., 2., 0., 0.],\n",
       "        [0., 0., 0., 0., 0., 0., 1., 0.],\n",
       "        [0., 0., 0., 0., 0., 0., 0., 2.]]),\n",
       " 'out': array([[3., 0., 0., 0., 0., 0., 0., 0.],\n",
       "        [0., 3., 0., 0., 0., 0., 0., 0.],\n",
       "        [0., 0., 3., 0., 0., 0., 0., 0.],\n",
       "        [0., 0., 0., 1., 0., 0., 0., 0.],\n",
       "        [0., 0., 0., 0., 0., 0., 0., 0.],\n",
       "        [0., 0., 0., 0., 0., 1., 0., 0.],\n",
       "        [0., 0., 0., 0., 0., 0., 1., 0.],\n",
       "        [0., 0., 0., 0., 0., 0., 0., 0.]])}"
      ]
     },
     "execution_count": 14,
     "metadata": {},
     "output_type": "execute_result"
    }
   ],
   "source": [
    "SDG.degree_matrix"
   ]
  },
  {
   "cell_type": "code",
   "execution_count": 15,
   "metadata": {},
   "outputs": [
    {
     "data": {
      "text/plain": [
       "{'in': array([[ 0., -1.,  0., -1.,  0., -1.,  0.,  0.],\n",
       "        [ 0.,  2., -1.,  0., -1.,  0.,  0., -1.],\n",
       "        [ 0., -1.,  1., -1., -1.,  0.,  0.,  0.],\n",
       "        [ 0.,  0.,  0.,  2.,  0., -1.,  0.,  0.],\n",
       "        [ 0.,  0.,  0.,  0.,  2.,  0.,  0.,  0.],\n",
       "        [ 0.,  0.,  0.,  0.,  0.,  2., -1.,  0.],\n",
       "        [ 0.,  0.,  0.,  0.,  0.,  0.,  1., -1.],\n",
       "        [ 0.,  0.,  0.,  0.,  0.,  0.,  0.,  2.]]),\n",
       " 'out': array([[ 3., -1.,  0., -1.,  0., -1.,  0.,  0.],\n",
       "        [ 0.,  3., -1.,  0., -1.,  0.,  0., -1.],\n",
       "        [ 0., -1.,  3., -1., -1.,  0.,  0.,  0.],\n",
       "        [ 0.,  0.,  0.,  1.,  0., -1.,  0.,  0.],\n",
       "        [ 0.,  0.,  0.,  0.,  0.,  0.,  0.,  0.],\n",
       "        [ 0.,  0.,  0.,  0.,  0.,  1., -1.,  0.],\n",
       "        [ 0.,  0.,  0.,  0.,  0.,  0.,  1., -1.],\n",
       "        [ 0.,  0.,  0.,  0.,  0.,  0.,  0.,  0.]])}"
      ]
     },
     "execution_count": 15,
     "metadata": {},
     "output_type": "execute_result"
    }
   ],
   "source": [
    "SDG.laplacian_matrix"
   ]
  },
  {
   "cell_type": "markdown",
   "metadata": {},
   "source": [
    "### Weighted Graphs"
   ]
  },
  {
   "cell_type": "code",
   "execution_count": 16,
   "metadata": {},
   "outputs": [
    {
     "data": {
      "text/plain": [
       "array([[  0.,  20.,   0.,  39.,   0.,  34.,   0.,   0.],\n",
       "       [ 20.,   0.,  34.,   0.,   0.,   0.,   0.,   0.],\n",
       "       [  0.,  34.,   0.,   0.,   6.,   0.,   0.,  76.],\n",
       "       [ 39.,   0.,   0.,   0.,   0.,  77., 456.,   0.],\n",
       "       [  0.,   0.,   6.,   0.,   0.,   0.,   0.,   0.],\n",
       "       [ 34.,   0.,   0.,  77.,   0.,   0.,  66.,   0.],\n",
       "       [  0.,   0.,   0., 456.,   0.,  66.,   0., 456.],\n",
       "       [  0.,   0.,  76.,   0.,   0.,   0., 456.,   0.]])"
      ]
     },
     "execution_count": 16,
     "metadata": {},
     "output_type": "execute_result"
    }
   ],
   "source": [
    "nodes = [0, 1, 2, 3, 4, 5, 6, 7]\n",
    "edges = [((0, 1), 20), ((0, 3), 30), ((0, 3), 39), ((0, 5), 34), ((1, 2), 34), ((2, 4), 6), ((2 , 7), 76), ((3, 6), 456), ((3, 5), 77), ((5, 6), 66), ((6, 7), 456)]\n",
    "WG = WeightedGraph(nodes, edges)\n",
    "\n",
    "WG.adjacency_matrix"
   ]
  },
  {
   "cell_type": "code",
   "execution_count": 17,
   "metadata": {},
   "outputs": [
    {
     "data": {
      "text/plain": [
       "array([[ 20.,  30.,  39.,  34.,   0.,   0.,   0.,   0.,   0.,   0.,   0.],\n",
       "       [ 20.,   0.,   0.,   0.,  34.,   0.,   0.,   0.,   0.,   0.,   0.],\n",
       "       [  0.,   0.,   0.,   0.,  34.,   6.,  76.,   0.,   0.,   0.,   0.],\n",
       "       [  0.,  30.,  39.,   0.,   0.,   0.,   0.,  77., 456.,   0.,   0.],\n",
       "       [  0.,   0.,   0.,   0.,   0.,   6.,   0.,   0.,   0.,   0.,   0.],\n",
       "       [  0.,   0.,   0.,  34.,   0.,   0.,   0.,  77.,   0.,  66.,   0.],\n",
       "       [  0.,   0.,   0.,   0.,   0.,   0.,   0.,   0., 456.,  66., 456.],\n",
       "       [  0.,   0.,   0.,   0.,   0.,   0.,  76.,   0.,   0.,   0., 456.]])"
      ]
     },
     "execution_count": 17,
     "metadata": {},
     "output_type": "execute_result"
    }
   ],
   "source": [
    "WG.incidence_matrix"
   ]
  },
  {
   "cell_type": "code",
   "execution_count": 34,
   "metadata": {},
   "outputs": [
    {
     "data": {
      "text/plain": [
       "array([[3., 0., 0., 0., 0., 0., 0., 0.],\n",
       "       [0., 2., 0., 0., 0., 0., 0., 0.],\n",
       "       [0., 0., 3., 0., 0., 0., 0., 0.],\n",
       "       [0., 0., 0., 3., 0., 0., 0., 0.],\n",
       "       [0., 0., 0., 0., 1., 0., 0., 0.],\n",
       "       [0., 0., 0., 0., 0., 3., 0., 0.],\n",
       "       [0., 0., 0., 0., 0., 0., 3., 0.],\n",
       "       [0., 0., 0., 0., 0., 0., 0., 2.]])"
      ]
     },
     "execution_count": 34,
     "metadata": {},
     "output_type": "execute_result"
    }
   ],
   "source": [
    "WG.degree_matrix"
   ]
  },
  {
   "cell_type": "code",
   "execution_count": 4,
   "metadata": {},
   "outputs": [
    {
     "data": {
      "text/plain": [
       "array([[  0.,  20.,   0.,  39.,   0.,  34.,   0.,   0.],\n",
       "       [ 20.,   0.,  34.,   0.,   0.,   0.,   0.,   0.],\n",
       "       [  0.,  34.,   0.,   0.,   6.,   0.,   0.,  76.],\n",
       "       [ 39.,   0.,   0.,   0.,   0.,  77., 456.,   0.],\n",
       "       [  0.,   0.,   6.,   0.,   0.,   0.,   0.,   0.],\n",
       "       [ 34.,   0.,   0.,  77.,   0.,   0.,  66.,   0.],\n",
       "       [  0.,   0.,   0., 456.,   0.,  66.,   0., 456.],\n",
       "       [  0.,   0.,  76.,   0.,   0.,   0., 456.,   0.]])"
      ]
     },
     "execution_count": 4,
     "metadata": {},
     "output_type": "execute_result"
    }
   ],
   "source": [
    "nodes = [0, 1, 2, 3, 4, 5, 6, 7]\n",
    "edges = [((0, 1), 20), ((0, 3), 39), ((0, 5), 34), ((1, 2), 34), ((2, 4), 6), ((2 , 7), 76), ((3, 6), 456), ((3, 5), 77), ((5, 6), 66), ((6, 7), 456)]\n",
    "SWG = SimpleWeightedGraph(nodes, edges)\n",
    "\n",
    "SWG.adjacency_matrix"
   ]
  },
  {
   "cell_type": "code",
   "execution_count": 5,
   "metadata": {},
   "outputs": [
    {
     "data": {
      "text/plain": [
       "array([[ 20.,  39.,  34.,   0.,   0.,   0.,   0.,   0.,   0.,   0.],\n",
       "       [ 20.,   0.,   0.,  34.,   0.,   0.,   0.,   0.,   0.,   0.],\n",
       "       [  0.,   0.,   0.,  34.,   6.,  76.,   0.,   0.,   0.,   0.],\n",
       "       [  0.,  39.,   0.,   0.,   0.,   0.,  77., 456.,   0.,   0.],\n",
       "       [  0.,   0.,   0.,   0.,   6.,   0.,   0.,   0.,   0.,   0.],\n",
       "       [  0.,   0.,  34.,   0.,   0.,   0.,  77.,   0.,  66.,   0.],\n",
       "       [  0.,   0.,   0.,   0.,   0.,   0.,   0., 456.,  66., 456.],\n",
       "       [  0.,   0.,   0.,   0.,   0.,  76.,   0.,   0.,   0., 456.]])"
      ]
     },
     "execution_count": 5,
     "metadata": {},
     "output_type": "execute_result"
    }
   ],
   "source": [
    "SWG.incidence_matrix"
   ]
  },
  {
   "cell_type": "code",
   "execution_count": 6,
   "metadata": {},
   "outputs": [
    {
     "data": {
      "text/plain": [
       "array([[3., 0., 0., 0., 0., 0., 0., 0.],\n",
       "       [0., 2., 0., 0., 0., 0., 0., 0.],\n",
       "       [0., 0., 3., 0., 0., 0., 0., 0.],\n",
       "       [0., 0., 0., 3., 0., 0., 0., 0.],\n",
       "       [0., 0., 0., 0., 1., 0., 0., 0.],\n",
       "       [0., 0., 0., 0., 0., 3., 0., 0.],\n",
       "       [0., 0., 0., 0., 0., 0., 3., 0.],\n",
       "       [0., 0., 0., 0., 0., 0., 0., 2.]])"
      ]
     },
     "execution_count": 6,
     "metadata": {},
     "output_type": "execute_result"
    }
   ],
   "source": [
    "SWG.degree_matrix"
   ]
  },
  {
   "cell_type": "code",
   "execution_count": 7,
   "metadata": {},
   "outputs": [
    {
     "data": {
      "text/plain": [
       "array([[-3.,  1.,  0.,  1.,  0.,  1.,  0.,  0.],\n",
       "       [ 1., -2.,  1.,  0.,  0.,  0.,  0.,  0.],\n",
       "       [ 0.,  1., -3.,  0.,  1.,  0.,  0.,  1.],\n",
       "       [ 1.,  0.,  0., -3.,  0.,  1.,  1.,  0.],\n",
       "       [ 0.,  0.,  1.,  0., -1.,  0.,  0.,  0.],\n",
       "       [ 1.,  0.,  0.,  1.,  0., -3.,  1.,  0.],\n",
       "       [ 0.,  0.,  0.,  1.,  0.,  1., -3.,  1.],\n",
       "       [ 0.,  0.,  1.,  0.,  0.,  0.,  1., -2.]])"
      ]
     },
     "execution_count": 7,
     "metadata": {},
     "output_type": "execute_result"
    }
   ],
   "source": [
    "SWG.laplacian_matrix"
   ]
  },
  {
   "cell_type": "code",
   "execution_count": 20,
   "metadata": {},
   "outputs": [
    {
     "name": "stdout",
     "output_type": "stream",
     "text": [
      "dimension are okay\n",
      "seems fine\n"
     ]
    }
   ],
   "source": [
    "if len(SWG.edges) == SWG.incidence_matrix.shape[1]:\n",
    "    print('dimension are okay')\n",
    "else: print('Error')\n",
    "if WG.incidence_matrix.shape[1] == SWG.incidence_matrix.shape[1]:\n",
    "    print('Given the test data the dimesnions should be different')\n",
    "else: print('seems fine')"
   ]
  },
  {
   "cell_type": "markdown",
   "metadata": {},
   "source": [
    "## Graph Generator"
   ]
  },
  {
   "cell_type": "code",
   "execution_count": 28,
   "metadata": {},
   "outputs": [
    {
     "name": "stdout",
     "output_type": "stream",
     "text": [
      "[(5, 6), (2, 5), (5, 6), (4, 1), (6, 0), (1, 0), (6, 3)]\n"
     ]
    },
    {
     "data": {
      "text/plain": [
       "array([[0., 1., 0., 0., 0., 0., 1.],\n",
       "       [1., 0., 0., 0., 1., 0., 0.],\n",
       "       [0., 0., 0., 0., 0., 1., 0.],\n",
       "       [0., 0., 0., 0., 0., 0., 1.],\n",
       "       [0., 1., 0., 0., 0., 0., 0.],\n",
       "       [0., 0., 1., 0., 0., 0., 1.],\n",
       "       [1., 0., 0., 1., 0., 1., 0.]])"
      ]
     },
     "execution_count": 28,
     "metadata": {},
     "output_type": "execute_result"
    }
   ],
   "source": [
    "factory = RandomGraphFactory()\n",
    "graph1 = factory.generate_graph(8, 7)\n",
    "graph1.adjacency_matrix"
   ]
  },
  {
   "cell_type": "code",
   "execution_count": 29,
   "metadata": {},
   "outputs": [
    {
     "name": "stdout",
     "output_type": "stream",
     "text": [
      "[(5, 8), (7, 0), (1, 7), (7, 5), (2, 5), (2, 7), (1, 1), (8, 1), (8, 3), (3, 3)]\n"
     ]
    },
    {
     "data": {
      "text/plain": [
       "array([[0., 0., 0., 0., 0., 0., 0., 0., 0.],\n",
       "       [0., 0., 0., 0., 0., 0., 0., 1., 0.],\n",
       "       [0., 0., 0., 0., 0., 1., 0., 1., 0.],\n",
       "       [0., 0., 0., 0., 0., 0., 0., 0., 0.],\n",
       "       [0., 0., 0., 0., 0., 0., 0., 0., 0.],\n",
       "       [0., 0., 0., 0., 0., 0., 0., 0., 1.],\n",
       "       [0., 0., 0., 0., 0., 0., 0., 0., 0.],\n",
       "       [1., 0., 0., 0., 0., 1., 0., 0., 0.],\n",
       "       [0., 1., 0., 1., 0., 0., 0., 0., 0.]])"
      ]
     },
     "execution_count": 29,
     "metadata": {},
     "output_type": "execute_result"
    }
   ],
   "source": [
    "graph2 = factory.generate_graph(10, 10, directed=True)\n",
    "graph2.adjacency_matrix"
   ]
  },
  {
   "cell_type": "code",
   "execution_count": 30,
   "metadata": {},
   "outputs": [
    {
     "name": "stdout",
     "output_type": "stream",
     "text": [
      "[((4, 0), 32), ((4, 4), 9), ((4, 1), 51), ((1, 5), 21), ((1, 8), 40), ((3, 5), 96), ((5, 3), 81), ((5, 8), 21), ((3, 6), 13), ((7, 4), 95)]\n"
     ]
    },
    {
     "data": {
      "text/plain": [
       "array([[ 0.,  0.,  0.,  0., 32.,  0.,  0.,  0.,  0.],\n",
       "       [ 0.,  0.,  0.,  0., 51., 21.,  0.,  0., 40.],\n",
       "       [ 0.,  0.,  0.,  0.,  0.,  0.,  0.,  0.,  0.],\n",
       "       [ 0.,  0.,  0.,  0.,  0., 81., 13.,  0.,  0.],\n",
       "       [32., 51.,  0.,  0.,  0.,  0.,  0., 95.,  0.],\n",
       "       [ 0., 21.,  0., 81.,  0.,  0.,  0.,  0., 21.],\n",
       "       [ 0.,  0.,  0., 13.,  0.,  0.,  0.,  0.,  0.],\n",
       "       [ 0.,  0.,  0.,  0., 95.,  0.,  0.,  0.,  0.],\n",
       "       [ 0., 40.,  0.,  0.,  0., 21.,  0.,  0.,  0.]])"
      ]
     },
     "execution_count": 30,
     "metadata": {},
     "output_type": "execute_result"
    }
   ],
   "source": [
    "graph3 = factory.generate_graph(10, 10, weighted=True)\n",
    "graph3.adjacency_matrix"
   ]
  },
  {
   "cell_type": "code",
   "execution_count": 31,
   "metadata": {},
   "outputs": [
    {
     "name": "stdout",
     "output_type": "stream",
     "text": [
      "[(3, 5)]\n"
     ]
    },
    {
     "data": {
      "text/plain": [
       "array([[0., 0., 0., 0., 0., 0., 0., 0., 0.],\n",
       "       [0., 0., 0., 0., 0., 0., 0., 0., 0.],\n",
       "       [0., 0., 0., 0., 0., 0., 0., 0., 0.],\n",
       "       [0., 0., 0., 0., 0., 1., 0., 0., 0.],\n",
       "       [0., 0., 0., 0., 0., 0., 0., 0., 0.],\n",
       "       [0., 0., 0., 1., 0., 0., 0., 0., 0.],\n",
       "       [0., 0., 0., 0., 0., 0., 0., 0., 0.],\n",
       "       [0., 0., 0., 0., 0., 0., 0., 0., 0.],\n",
       "       [0., 0., 0., 0., 0., 0., 0., 0., 0.]])"
      ]
     },
     "execution_count": 31,
     "metadata": {},
     "output_type": "execute_result"
    }
   ],
   "source": [
    "graph4 = factory.generate_graph(10, simple=False)\n",
    "graph4.adjacency_matrix"
   ]
  },
  {
   "cell_type": "code",
   "execution_count": 32,
   "metadata": {},
   "outputs": [
    {
     "name": "stdout",
     "output_type": "stream",
     "text": [
      "[(3, 7), (3, 7), (8, 7), (2, 0), (1, 4), (7, 5), (5, 5), (6, 5), (2, 0), (8, 0), (0, 1), (0, 6), (6, 3), (8, 1), (8, 1), (0, 6), (1, 8), (0, 6), (4, 8), (1, 5), (1, 1), (7, 3), (2, 1), (4, 6)]\n"
     ]
    },
    {
     "data": {
      "text/plain": [
       "array([[0., 1., 0., 0., 0., 0., 1., 0., 0.],\n",
       "       [0., 1., 0., 0., 1., 1., 0., 0., 1.],\n",
       "       [1., 1., 0., 0., 0., 0., 0., 0., 0.],\n",
       "       [0., 0., 0., 0., 0., 0., 0., 1., 0.],\n",
       "       [0., 0., 0., 0., 0., 0., 1., 0., 1.],\n",
       "       [0., 0., 0., 0., 0., 1., 0., 0., 0.],\n",
       "       [0., 0., 0., 1., 0., 1., 0., 0., 0.],\n",
       "       [0., 0., 0., 1., 0., 1., 0., 0., 0.],\n",
       "       [1., 1., 0., 0., 0., 0., 0., 1., 0.]])"
      ]
     },
     "execution_count": 32,
     "metadata": {},
     "output_type": "execute_result"
    }
   ],
   "source": [
    "graph5 = factory.generate_graph(10, simple=False, directed=True)\n",
    "graph5.adjacency_matrix"
   ]
  },
  {
   "cell_type": "code",
   "execution_count": 33,
   "metadata": {},
   "outputs": [
    {
     "name": "stdout",
     "output_type": "stream",
     "text": [
      "[((2, 0), 38), ((6, 1), 44), ((3, 7), 97), ((2, 4), 70), ((0, 7), 31), ((0, 5), 40), ((2, 4), 30), ((3, 7), 59), ((5, 6), 58), ((7, 7), 26), ((0, 6), 17), ((5, 1), 77), ((0, 2), 67), ((7, 1), 29), ((2, 6), 72), ((2, 1), 14), ((8, 4), 57), ((6, 5), 67), ((7, 1), 0), ((5, 1), 84), ((1, 5), 22), ((8, 6), 62), ((4, 6), 76), ((2, 4), 57), ((8, 5), 3), ((8, 4), 49), ((5, 2), 73), ((5, 8), 26), ((2, 1), 89), ((7, 0), 38), ((6, 3), 86), ((7, 7), 5), ((3, 5), 65), ((8, 8), 96), ((3, 7), 79), ((0, 3), 40), ((4, 0), 61)]\n"
     ]
    },
    {
     "data": {
      "text/plain": [
       "array([[ 0.,  0., 38., 40., 61., 40., 17., 38.,  0.],\n",
       "       [ 0.,  0., 89.,  0.,  0., 84., 44.,  0.,  0.],\n",
       "       [38., 89.,  0.,  0., 57., 73., 72.,  0.,  0.],\n",
       "       [40.,  0.,  0.,  0.,  0., 65., 86., 79.,  0.],\n",
       "       [61.,  0., 57.,  0.,  0.,  0., 76.,  0., 49.],\n",
       "       [40., 84., 73., 65.,  0.,  0., 67.,  0.,  3.],\n",
       "       [17., 44., 72., 86., 76., 67.,  0.,  0., 62.],\n",
       "       [38.,  0.,  0., 79.,  0.,  0.,  0.,  5.,  0.],\n",
       "       [ 0.,  0.,  0.,  0., 49.,  3., 62.,  0., 96.]])"
      ]
     },
     "execution_count": 33,
     "metadata": {},
     "output_type": "execute_result"
    }
   ],
   "source": [
    "graph6 = factory.generate_graph(10, simple=False, weighted=True)\n",
    "graph6.adjacency_matrix"
   ]
  },
  {
   "cell_type": "markdown",
   "metadata": {},
   "source": [
    "# Data Transformer"
   ]
  },
  {
   "cell_type": "code",
   "execution_count": 23,
   "metadata": {},
   "outputs": [
    {
     "data": {
      "text/plain": [
       "([0, 1, 2, 3, 4, 5, 6, 7],\n",
       " [(0, 1),\n",
       "  (0, 3),\n",
       "  (0, 5),\n",
       "  (1, 2),\n",
       "  (2, 1),\n",
       "  (1, 4),\n",
       "  (1, 7),\n",
       "  (2, 3),\n",
       "  (2, 4),\n",
       "  (3, 5),\n",
       "  (5, 6),\n",
       "  (6, 7)])"
      ]
     },
     "execution_count": 23,
     "metadata": {},
     "output_type": "execute_result"
    }
   ],
   "source": [
    "nodes = [0, 1, 2, 3, 4, 5, 6, 7]\n",
    "edges = [(0, 1), (0, 3), (0, 5), (1, 2), (2, 1), (1, 4), (1, 7), (2, 3), (2, 4), (3, 5), (5, 6), (6, 7)]\n",
    "\n",
    "dt = DataTransformer()\n",
    "dt.transform_input(nodes, edges, weighted=False)"
   ]
  },
  {
   "cell_type": "code",
   "execution_count": 22,
   "metadata": {},
   "outputs": [
    {
     "data": {
      "text/plain": [
       "([0, 1, 2, 3], [(0, 2), (0, 2), (2, 1), (0, 1), (1, 3)])"
      ]
     },
     "execution_count": 22,
     "metadata": {},
     "output_type": "execute_result"
    }
   ],
   "source": [
    "nodes = ['e', '5', '7', '4']\n",
    "edges = [('e', '7'), ('e', '7'), ( '7', '5'), ('e','5'), ('5','4')]\n",
    "\n",
    "dt = DataTransformer()\n",
    "dt.transform_input(nodes, edges, weighted=False)"
   ]
  },
  {
   "cell_type": "code",
   "execution_count": 24,
   "metadata": {},
   "outputs": [
    {
     "data": {
      "text/plain": [
       "([0, 1, 2, 3, 4], [(0, 2), (0, 4), (2, 1), (0, 1), (1, 3)])"
      ]
     },
     "execution_count": 24,
     "metadata": {},
     "output_type": "execute_result"
    }
   ],
   "source": [
    "ob = object()\n",
    "\n",
    "nodes = ['e', '5', '7', '4', ob]\n",
    "edges = [('e', '7'), ('e', ob), ( '7', '5'), ('e','5'), ('5','4')]\n",
    "\n",
    "dt = DataTransformer()\n",
    "dt.transform_input(nodes, edges, weighted=False)"
   ]
  },
  {
   "cell_type": "code",
   "execution_count": 27,
   "metadata": {},
   "outputs": [
    {
     "data": {
      "text/plain": [
       "([0, 1, 2, 3, 4, 5, 6, 7, 8],\n",
       " [(0, 1),\n",
       "  (0, 3),\n",
       "  (0, 5),\n",
       "  (1, 7),\n",
       "  (2, 4),\n",
       "  (2, 8),\n",
       "  (8, 6),\n",
       "  (3, 5),\n",
       "  (5, 6),\n",
       "  (6, 7)])"
      ]
     },
     "execution_count": 27,
     "metadata": {},
     "output_type": "execute_result"
    }
   ],
   "source": [
    "nodes = [0, 1, 2, 3, 4, 5, 6, '8', ob]\n",
    "edges = [((0, 1), 20), ((0, 3), 39), ((0, 5), 34), ((1, '8'), 34), ((2, 4), 6), ((2 , ob), 76), ((ob, 6), 456), ((3, 5), 77), ((5, 6), 66), ((6, '8'), 456)]\n",
    "dt = DataTransformer()\n",
    "dt.transform_input(nodes, edges, weighted=True)"
   ]
  },
  {
   "cell_type": "code",
   "execution_count": null,
   "metadata": {},
   "outputs": [],
   "source": []
  },
  {
   "cell_type": "markdown",
   "metadata": {},
   "source": [
    "# Garbage garage"
   ]
  },
  {
   "cell_type": "markdown",
   "metadata": {},
   "source": [
    " def graph_types(self):\n",
    "        properties = set(['simple', 'directed', 'weighted'])\n",
    "        graph_types = list(self.powerset(properties))\n",
    "        return graph_types\n",
    "\n",
    "def powerset(self, iterable):\n",
    "        s = list(iterable)\n",
    "        powerset = chain.from_iterable(combinations(s, r) for r in range(len(s)+ 1))\n",
    "        return powerset"
   ]
  },
  {
   "cell_type": "markdown",
   "metadata": {},
   "source": []
  }
 ],
 "metadata": {
  "kernelspec": {
   "display_name": "Python 3.10.4 64-bit",
   "language": "python",
   "name": "python3"
  },
  "language_info": {
   "codemirror_mode": {
    "name": "ipython",
    "version": 3
   },
   "file_extension": ".py",
   "mimetype": "text/x-python",
   "name": "python",
   "nbconvert_exporter": "python",
   "pygments_lexer": "ipython3",
   "version": "3.10.4"
  },
  "orig_nbformat": 4,
  "vscode": {
   "interpreter": {
    "hash": "c809f26e9b68fa75e21fff38701045ece19f929d41ad4d220c4fe5e0c88b26a1"
   }
  }
 },
 "nbformat": 4,
 "nbformat_minor": 2
}
